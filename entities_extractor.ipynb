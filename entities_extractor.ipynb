{
 "cells": [
  {
   "cell_type": "markdown",
   "metadata": {},
   "source": [
    "# Entities Extractor"
   ]
  },
  {
   "cell_type": "code",
   "execution_count": 1,
   "metadata": {},
   "outputs": [],
   "source": [
    "import pandas as pd\n",
    "import spacy\n",
    "import json\n",
    "import re\n",
    "import random\n",
    "from spacy.util import minibatch, compounding\n",
    "from spacy.gold import GoldParse\n",
    "from spacy.scorer import Scorer\n",
    "from sklearn.model_selection import train_test_split\n",
    "from ipymarkup import show_box_markup\n",
    "from ipymarkup.palette import palette, BLUE, RED, GREEN, ORANGE, PURPLE, BROWN"
   ]
  },
  {
   "cell_type": "markdown",
   "metadata": {},
   "source": [
    "### Dataset Preparation"
   ]
  },
  {
   "cell_type": "markdown",
   "metadata": {},
   "source": [
    "Load dataset, split by 70:30, and convert the dataset to a json format required by Spacy. See https://spacy.io/usage/training"
   ]
  },
  {
   "cell_type": "code",
   "execution_count": 2,
   "metadata": {
    "scrolled": false
   },
   "outputs": [],
   "source": [
    "# load dataset\n",
    "df_intents = pd.read_json('intents.json')\n",
    "df_intents = df_intents['text_intent'].apply(pd.Series)\n",
    "\n",
    "with open('entities.json') as json_file:\n",
    "    json_entities = json.load(json_file)\n",
    "    \n",
    "# split dataset\n",
    "train_x, test_x, train_y, test_y = train_test_split(df_intents['text'], df_intents['intent'], random_state=2, test_size=0.30)\n",
    "\n",
    "def convert_to_spacy_format(df_intents_text, json_entities):\n",
    "    '''to convert dataset to spacy format.\n",
    "    see https://spacy.io/usage/training'''\n",
    "    formatted_json = []\n",
    "    for i, row in df_intents_text.iteritems():\n",
    "        formatted_json.append((row, {'entities':[]}))\n",
    "        for entity in json_entities:\n",
    "            for entity_val in json_entities[entity]:\n",
    "                for m in re.finditer(entity_val.lower(), row.lower()):\n",
    "                     formatted_json[-1][1]['entities'].append((m.start(), m.end(), entity))\n",
    "    return formatted_json\n",
    "\n",
    "# convert dataset to Spacy format\n",
    "formatted_train_x = convert_to_spacy_format(train_x, json_entities)\n",
    "formatted_test_x = convert_to_spacy_format(test_x, json_entities)"
   ]
  },
  {
   "cell_type": "markdown",
   "metadata": {},
   "source": [
    "### Setting Up Model"
   ]
  },
  {
   "cell_type": "markdown",
   "metadata": {},
   "source": [
    "Load pre-trained model if exist (if not, create blank model). Add new entities to entity recognizer. Initialize the optimizer."
   ]
  },
  {
   "cell_type": "code",
   "execution_count": 3,
   "metadata": {
    "scrolled": true
   },
   "outputs": [
    {
     "name": "stdout",
     "output_type": "stream",
     "text": [
      "Loaded model '<spacy.lang.en.English object at 0x000001BE457C4EB8>'\n",
      "Load existing 'ner'\n"
     ]
    }
   ],
   "source": [
    "# load pre-trained model\n",
    "try:\n",
    "    model = spacy.load('en_core_web_sm')\n",
    "except:\n",
    "    print('the pre-trained model is not found')\n",
    "    model = None\n",
    "\n",
    "# setting up the pipeline and entity recognizer.\n",
    "if model is not None:\n",
    "    print(\"Loaded model '%s'\" % model)\n",
    "else:\n",
    "    model = spacy.blank('en')  # create blank Language class\n",
    "    print(\"Created blank 'en' model\")\n",
    "    \n",
    "if 'ner' not in model.pipe_names:\n",
    "    ner = model.create_pipe('ner')\n",
    "    model.add_pipe(ner)\n",
    "    print(\"Create new 'ner'\")\n",
    "else:\n",
    "    ner = model.get_pipe('ner')\n",
    "    print(\"Load existing 'ner'\")\n",
    "    \n",
    "# add new entity labels to entity recognizer\n",
    "for entity in json_entities:\n",
    "    ner.add_label(entity)\n",
    "    \n",
    "# inititalizing optimizer\n",
    "if model is None:\n",
    "    optimizer = model.begin_training()\n",
    "else:\n",
    "    optimizer = model.entity.create_optimizer()"
   ]
  },
  {
   "cell_type": "markdown",
   "metadata": {},
   "source": [
    "### Model Training"
   ]
  },
  {
   "cell_type": "markdown",
   "metadata": {},
   "source": [
    "Shuffle and iterate training data in batches, and use model.update to make a prediction and adjust the weights of the model."
   ]
  },
  {
   "cell_type": "code",
   "execution_count": 4,
   "metadata": {
    "scrolled": false
   },
   "outputs": [],
   "source": [
    "n_iter = 200\n",
    "verbose = 0\n",
    "# get names of other pipes (except 'ner')\n",
    "other_pipes = [pipe for pipe in model.pipe_names if pipe != 'ner']\n",
    "with model.disable_pipes(*other_pipes):  # disable other pipes (only train NER)\n",
    "    for itn in range(n_iter):\n",
    "        random.shuffle(formatted_train_x)\n",
    "        losses = {}\n",
    "        batches = minibatch(formatted_train_x, size=compounding(4., 32., 1.001))\n",
    "        for batch in batches:\n",
    "            texts, entities = zip(*batch) \n",
    "            # Updating the weights\n",
    "            model.update(texts, entities, sgd=optimizer, drop=0.35, losses=losses)\n",
    "        if verbose > 0:\n",
    "            print('Losses', losses)"
   ]
  },
  {
   "cell_type": "markdown",
   "metadata": {},
   "source": [
    "### Model Evaluation"
   ]
  },
  {
   "cell_type": "markdown",
   "metadata": {},
   "source": [
    "Evaluate the trained model on the test data, and print the predictions."
   ]
  },
  {
   "cell_type": "code",
   "execution_count": 5,
   "metadata": {},
   "outputs": [
    {
     "data": {
      "text/html": [
       "<div class=\"tex2jax_ignore\" style=\"white-space: pre-wrap\">check my meeting schedule <span style=\"padding: 2px; border-radius: 4px; border: 1px solid #c8e6c9; background: #e8f5e9\">today<span style=\"vertical-align: middle; margin-left: 2px; font-size: 0.7em; color: #66bb6a;\">DATE</span></span></div>"
      ],
      "text/plain": [
       "BoxMarkup('check my meeting schedule today', [Span(26, 31, 'DATE')])"
      ]
     },
     "metadata": {},
     "output_type": "display_data"
    },
    {
     "data": {
      "text/html": [
       "<div class=\"tex2jax_ignore\" style=\"white-space: pre-wrap\">I need to set up a meeting with <span style=\"padding: 2px; border-radius: 4px; border: 1px solid #bbdefb; background: #e3f2fd\">John<span style=\"vertical-align: middle; margin-left: 2px; font-size: 0.7em; color: #64b5f6;\">PERSON</span></span> about <span style=\"padding: 2px; border-radius: 4px; border: 1px solid #ffcdd2; background: #ffebee\">Design Review<span style=\"vertical-align: middle; margin-left: 2px; font-size: 0.7em; color: #e57373;\">TOPIC</span></span> at <span style=\"padding: 2px; border-radius: 4px; border: 1px solid #d7ccc8; background: #efebe9\">10 am<span style=\"vertical-align: middle; margin-left: 2px; font-size: 0.7em; color: #a1887f;\">TIME</span></span> <span style=\"padding: 2px; border-radius: 4px; border: 1px solid #c8e6c9; background: #e8f5e9\">today<span style=\"vertical-align: middle; margin-left: 2px; font-size: 0.7em; color: #66bb6a;\">DATE</span></span> for <span style=\"padding: 2px; border-radius: 4px; border: 1px solid #d1c4e9; background: #ede7f6\">an hour<span style=\"vertical-align: middle; margin-left: 2px; font-size: 0.7em; color: #9575cd;\">DURATION</span></span></div>"
      ],
      "text/plain": [
       "BoxMarkup('I need to set up a meeting with John about Design Review at 10 am today for an hour',\n",
       "          [Span(32, 36, 'PERSON'),\n",
       "           Span(43, 56, 'TOPIC'),\n",
       "           Span(60, 65, 'TIME'),\n",
       "           Span(66, 71, 'DATE'),\n",
       "           Span(76, 83, 'DURATION')])"
      ]
     },
     "metadata": {},
     "output_type": "display_data"
    },
    {
     "data": {
      "text/html": [
       "<div class=\"tex2jax_ignore\" style=\"white-space: pre-wrap\">that's great</div>"
      ],
      "text/plain": [
       "BoxMarkup(\"that's great\", [])"
      ]
     },
     "metadata": {},
     "output_type": "display_data"
    },
    {
     "data": {
      "text/html": [
       "<div class=\"tex2jax_ignore\" style=\"white-space: pre-wrap\">don't proceed</div>"
      ],
      "text/plain": [
       "BoxMarkup(\"don't proceed\", [])"
      ]
     },
     "metadata": {},
     "output_type": "display_data"
    },
    {
     "data": {
      "text/html": [
       "<div class=\"tex2jax_ignore\" style=\"white-space: pre-wrap\">please postpone my meeting with <span style=\"padding: 2px; border-radius: 4px; border: 1px solid #bbdefb; background: #e3f2fd\">amy<span style=\"vertical-align: middle; margin-left: 2px; font-size: 0.7em; color: #64b5f6;\">PERSON</span></span> to <span style=\"padding: 2px; border-radius: 4px; border: 1px solid #c8e6c9; background: #e8f5e9\">November 25<span style=\"vertical-align: middle; margin-left: 2px; font-size: 0.7em; color: #66bb6a;\">DATE</span></span> at <span style=\"padding: 2px; border-radius: 4px; border: 1px solid #d7ccc8; background: #efebe9\">10 am<span style=\"vertical-align: middle; margin-left: 2px; font-size: 0.7em; color: #a1887f;\">TIME</span></span></div>"
      ],
      "text/plain": [
       "BoxMarkup('please postpone my meeting with amy to November 25 at 10 am',\n",
       "          [Span(32, 35, 'PERSON'), Span(39, 50, 'DATE'), Span(54, 59, 'TIME')])"
      ]
     },
     "metadata": {},
     "output_type": "display_data"
    },
    {
     "data": {
      "text/html": [
       "<div class=\"tex2jax_ignore\" style=\"white-space: pre-wrap\">of course</div>"
      ],
      "text/plain": [
       "BoxMarkup('of course', [])"
      ]
     },
     "metadata": {},
     "output_type": "display_data"
    },
    {
     "data": {
      "text/html": [
       "<div class=\"tex2jax_ignore\" style=\"white-space: pre-wrap\">am I available on November 25 at 10 am?</div>"
      ],
      "text/plain": [
       "BoxMarkup('am I available on November 25 at 10 am?', [])"
      ]
     },
     "metadata": {},
     "output_type": "display_data"
    },
    {
     "data": {
      "text/html": [
       "<div class=\"tex2jax_ignore\" style=\"white-space: pre-wrap\">I would like to delay <span style=\"padding: 2px; border-radius: 4px; border: 1px solid #c8e6c9; background: #e8f5e9\">tomorrow<span style=\"vertical-align: middle; margin-left: 2px; font-size: 0.7em; color: #66bb6a;\">DATE</span></span>'s meeting with <span style=\"padding: 2px; border-radius: 4px; border: 1px solid #bbdefb; background: #e3f2fd\">amy<span style=\"vertical-align: middle; margin-left: 2px; font-size: 0.7em; color: #64b5f6;\">PERSON</span></span> by <span style=\"padding: 2px; border-radius: 4px; border: 1px solid #d1c4e9; background: #ede7f6\">half an<span style=\"vertical-align: middle; margin-left: 2px; font-size: 0.7em; color: #9575cd;\">DURATION</span></span> hour</div>"
      ],
      "text/plain": [
       "BoxMarkup(\"I would like to delay tomorrow's meeting with amy by half an hour\",\n",
       "          [Span(22, 30, 'DATE'),\n",
       "           Span(46, 49, 'PERSON'),\n",
       "           Span(53, 60, 'DURATION')])"
      ]
     },
     "metadata": {},
     "output_type": "display_data"
    },
    {
     "data": {
      "text/html": [
       "<div class=\"tex2jax_ignore\" style=\"white-space: pre-wrap\">yes<span style=\"padding: 2px; border-radius: 4px; border: 1px solid #bbdefb; background: #e3f2fd\">,<span style=\"vertical-align: middle; margin-left: 2px; font-size: 0.7em; color: #64b5f6;\">PERSON</span></span> please proceed</div>"
      ],
      "text/plain": [
       "BoxMarkup('yes, please proceed', [Span(3, 4, 'PERSON')])"
      ]
     },
     "metadata": {},
     "output_type": "display_data"
    },
    {
     "data": {
      "text/html": [
       "<div class=\"tex2jax_ignore\" style=\"white-space: pre-wrap\">please find a free time for <span style=\"padding: 2px; border-radius: 4px; border: 1px solid #bbdefb; background: #e3f2fd\">John<span style=\"vertical-align: middle; margin-left: 2px; font-size: 0.7em; color: #64b5f6;\">PERSON</span></span> and I this week</div>"
      ],
      "text/plain": [
       "BoxMarkup('please find a free time for John and I this week',\n",
       "          [Span(28, 32, 'PERSON')])"
      ]
     },
     "metadata": {},
     "output_type": "display_data"
    },
    {
     "data": {
      "text/html": [
       "<div class=\"tex2jax_ignore\" style=\"white-space: pre-wrap\">schedule a <span style=\"padding: 2px; border-radius: 4px; border: 1px solid #ffcdd2; background: #ffebee\">Deployment Issue<span style=\"vertical-align: middle; margin-left: 2px; font-size: 0.7em; color: #e57373;\">TOPIC</span></span> meeting with <span style=\"padding: 2px; border-radius: 4px; border: 1px solid #bbdefb; background: #e3f2fd\">Ben<span style=\"vertical-align: middle; margin-left: 2px; font-size: 0.7em; color: #64b5f6;\">PERSON</span></span> <span style=\"padding: 2px; border-radius: 4px; border: 1px solid #c8e6c9; background: #e8f5e9\">tomorrow<span style=\"vertical-align: middle; margin-left: 2px; font-size: 0.7em; color: #66bb6a;\">DATE</span></span> at <span style=\"padding: 2px; border-radius: 4px; border: 1px solid #d7ccc8; background: #efebe9\">1:30 pm<span style=\"vertical-align: middle; margin-left: 2px; font-size: 0.7em; color: #a1887f;\">TIME</span></span></div>"
      ],
      "text/plain": [
       "BoxMarkup('schedule a Deployment Issue meeting with Ben tomorrow at 1:30 pm',\n",
       "          [Span(11, 27, 'TOPIC'),\n",
       "           Span(41, 44, 'PERSON'),\n",
       "           Span(45, 53, 'DATE'),\n",
       "           Span(57, 64, 'TIME')])"
      ]
     },
     "metadata": {},
     "output_type": "display_data"
    },
    {
     "data": {
      "text/html": [
       "<div class=\"tex2jax_ignore\" style=\"white-space: pre-wrap\">show when <span style=\"padding: 2px; border-radius: 4px; border: 1px solid #bbdefb; background: #e3f2fd\">ben<span style=\"vertical-align: middle; margin-left: 2px; font-size: 0.7em; color: #64b5f6;\">PERSON</span></span> is available <span style=\"padding: 2px; border-radius: 4px; border: 1px solid #c8e6c9; background: #e8f5e9\">today<span style=\"vertical-align: middle; margin-left: 2px; font-size: 0.7em; color: #66bb6a;\">DATE</span></span></div>"
      ],
      "text/plain": [
       "BoxMarkup('show when ben is available today',\n",
       "          [Span(10, 13, 'PERSON'), Span(27, 32, 'DATE')])"
      ]
     },
     "metadata": {},
     "output_type": "display_data"
    },
    {
     "data": {
      "text/html": [
       "<div class=\"tex2jax_ignore\" style=\"white-space: pre-wrap\">that's fine</div>"
      ],
      "text/plain": [
       "BoxMarkup(\"that's fine\", [])"
      ]
     },
     "metadata": {},
     "output_type": "display_data"
    },
    {
     "data": {
      "text/html": [
       "<div class=\"tex2jax_ignore\" style=\"white-space: pre-wrap\">please push forward all of my meeting <span style=\"padding: 2px; border-radius: 4px; border: 1px solid #c8e6c9; background: #e8f5e9\">today<span style=\"vertical-align: middle; margin-left: 2px; font-size: 0.7em; color: #66bb6a;\">DATE</span></span> by <span style=\"padding: 2px; border-radius: 4px; border: 1px solid #d1c4e9; background: #ede7f6\">an hour<span style=\"vertical-align: middle; margin-left: 2px; font-size: 0.7em; color: #9575cd;\">DURATION</span></span></div>"
      ],
      "text/plain": [
       "BoxMarkup('please push forward all of my meeting today by an hour',\n",
       "          [Span(38, 43, 'DATE'), Span(47, 54, 'DURATION')])"
      ]
     },
     "metadata": {},
     "output_type": "display_data"
    },
    {
     "data": {
      "text/html": [
       "<div class=\"tex2jax_ignore\" style=\"white-space: pre-wrap\">I would like to have a meeting about <span style=\"padding: 2px; border-radius: 4px; border: 1px solid #ffcdd2; background: #ffebee\">Design Review<span style=\"vertical-align: middle; margin-left: 2px; font-size: 0.7em; color: #e57373;\">TOPIC</span></span> <span style=\"padding: 2px; border-radius: 4px; border: 1px solid #c8e6c9; background: #e8f5e9\">today<span style=\"vertical-align: middle; margin-left: 2px; font-size: 0.7em; color: #66bb6a;\">DATE</span></span></div>"
      ],
      "text/plain": [
       "BoxMarkup('I would like to have a meeting about Design Review today',\n",
       "          [Span(37, 50, 'TOPIC'), Span(51, 56, 'DATE')])"
      ]
     },
     "metadata": {},
     "output_type": "display_data"
    },
    {
     "data": {
      "text/html": [
       "<div class=\"tex2jax_ignore\" style=\"white-space: pre-wrap\">cancel my meeting <span style=\"padding: 2px; border-radius: 4px; border: 1px solid #c8e6c9; background: #e8f5e9\">tomorrow<span style=\"vertical-align: middle; margin-left: 2px; font-size: 0.7em; color: #66bb6a;\">DATE</span></span> <span style=\"padding: 2px; border-radius: 4px; border: 1px solid #d7ccc8; background: #efebe9\">morning<span style=\"vertical-align: middle; margin-left: 2px; font-size: 0.7em; color: #a1887f;\">TIME</span></span></div>"
      ],
      "text/plain": [
       "BoxMarkup('cancel my meeting tomorrow morning',\n",
       "          [Span(18, 26, 'DATE'), Span(27, 34, 'TIME')])"
      ]
     },
     "metadata": {},
     "output_type": "display_data"
    },
    {
     "data": {
      "text/html": [
       "<div class=\"tex2jax_ignore\" style=\"white-space: pre-wrap\">please remove my meeting at 10 am</div>"
      ],
      "text/plain": [
       "BoxMarkup('please remove my meeting at 10 am', [])"
      ]
     },
     "metadata": {},
     "output_type": "display_data"
    },
    {
     "data": {
      "text/html": [
       "<div class=\"tex2jax_ignore\" style=\"white-space: pre-wrap\">not okay</div>"
      ],
      "text/plain": [
       "BoxMarkup('not okay', [])"
      ]
     },
     "metadata": {},
     "output_type": "display_data"
    },
    {
     "name": "stdout",
     "output_type": "stream",
     "text": [
      "               precision      recall    f1-score     support\n",
      "        DATE       100.0       81.82        90.0          11\n",
      "       TOPIC       100.0       100.0       100.0           3\n",
      "        TIME       100.0       66.67        80.0           6\n",
      "    DURATION       66.67       66.67       66.67           4\n",
      "      PERSON       85.71       100.0       92.31           9\n",
      "\n",
      "   avg/total       92.31       82.76       87.27          33\n"
     ]
    }
   ],
   "source": [
    "def show_markup(pred, text):\n",
    "    '''to show markup in the text'''\n",
    "    spans = []\n",
    "    for ent in pred.ents:\n",
    "        for m in re.finditer(ent.text, text):\n",
    "            spans.append((m.start(), m.end(), ent.label_))\n",
    "    show_box_markup(text, spans, palette=palette(PERSON=BLUE, TOPIC=RED, DATE=GREEN, DURATION=PURPLE, TIME=BROWN))\n",
    "\n",
    "def evaluate(model, test):\n",
    "    '''return scores, and support for each entity type'''\n",
    "    scorer = Scorer()\n",
    "    supports = {}\n",
    "    for text, entities in test:\n",
    "        doc_gold_text = model.make_doc(text)\n",
    "        entities = entities['entities']\n",
    "        for entity in entities:\n",
    "            supports[entity[2]] = supports.get(entity[2], 0) + 1\n",
    "        gold = GoldParse(doc_gold_text, entities=entities)\n",
    "        predicted = model(text)\n",
    "        show_markup(predicted, text)\n",
    "        scorer.score(predicted, gold)\n",
    "    return scorer.scores, supports\n",
    "\n",
    "def print_score(scores, supports):\n",
    "    '''print json scores in a tabular format'''\n",
    "    print('{:>12}{:>12}{:>12}{:>12}{:>12}'.format('','precision','recall','f1-score', 'support'))\n",
    "    for ent in supports:\n",
    "        ent_scores = scores['ents_per_type'][ent]\n",
    "        print('{:>12}{:>12}{:>12}{:>12}{:>12}'.format(str(ent), round(ent_scores['p'], 2), round(ent_scores['r'], 2), round(ent_scores['f'], 2), supports.get(ent,0)))\n",
    "    print('\\n{:>12}{:>12}{:>12}{:>12}{:>12}'.format('avg/total', round(scores['ents_p'], 2), round(scores['ents_r'], 2), round(scores['ents_f'], 2), sum(supports.values())))\n",
    "\n",
    "scores, supports = evaluate(model, formatted_test_x)\n",
    "print_score(scores, supports)"
   ]
  }
 ],
 "metadata": {
  "kernelspec": {
   "display_name": "Python 3",
   "language": "python",
   "name": "python3"
  },
  "language_info": {
   "codemirror_mode": {
    "name": "ipython",
    "version": 3
   },
   "file_extension": ".py",
   "mimetype": "text/x-python",
   "name": "python",
   "nbconvert_exporter": "python",
   "pygments_lexer": "ipython3",
   "version": "3.7.3"
  }
 },
 "nbformat": 4,
 "nbformat_minor": 2
}
